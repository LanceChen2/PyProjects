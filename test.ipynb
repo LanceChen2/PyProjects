{
 "cells": [
  {
   "cell_type": "code",
   "execution_count": 4,
   "metadata": {},
   "outputs": [
    {
     "name": "stdout",
     "output_type": "stream",
     "text": [
      "home\\user\\documents\\report.pdf\n"
     ]
    }
   ],
   "source": [
    "import os\n",
    "\n",
    "# Creating a nested directory path\n",
    "base_dir = 'home'\n",
    "sub_dir = 'user'\n",
    "nested_dir = 'documents'\n",
    "file_name = 'report.pdf'\n",
    "\n",
    "# Combine all parts using os.path.sep\n",
    "full_path = base_dir + os.path.sep + sub_dir + os.path.sep + nested_dir + os.path.sep + file_name\n",
    "\n",
    "print(full_path)\n",
    "# Output will be 'home/user/documents/report.pdf' on Unix-like systems and 'home\\user\\documents\\report.pdf' on Windows\n"
   ]
  }
 ],
 "metadata": {
  "kernelspec": {
   "display_name": "base",
   "language": "python",
   "name": "python3"
  },
  "language_info": {
   "codemirror_mode": {
    "name": "ipython",
    "version": 3
   },
   "file_extension": ".py",
   "mimetype": "text/x-python",
   "name": "python",
   "nbconvert_exporter": "python",
   "pygments_lexer": "ipython3",
   "version": "3.10.9"
  }
 },
 "nbformat": 4,
 "nbformat_minor": 2
}
