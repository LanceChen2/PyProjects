{
 "cells": [
  {
   "cell_type": "code",
   "execution_count": null,
   "metadata": {},
   "outputs": [],
   "source": [
    "# wb = workbook\n",
    "# ws = worksheet\n",
    "\n",
    "from openpyxl import load_workbook, Workbook\n",
    "\n",
    "wb = load_workbook(f\"C:\\\\Users\\\\user\\\\OneDrive\\\\桌面\\\\test.xlsx\")\n",
    "\n",
    "ws = wb['Sheet1']\n",
    "\n",
    "ws_props = ws.sheet_properties\n",
    "ws.auto_filter.ref = ws.dimensions\n",
    "ws.auto_filter.add_filter_column(1, [])\n",
    "\n",
    "\n",
    "wb.save(f\"C:\\\\Users\\\\user\\\\OneDrive\\\\桌面\\\\test1.xlsx\")\n",
    "\n",
    "\n",
    "# for row in ws.values:\n",
    "#    for value in row:\n",
    "#      print(value)\n",
    "#    print()\n",
    "\n"
   ]
  }
 ],
 "metadata": {
  "kernelspec": {
   "display_name": "base",
   "language": "python",
   "name": "python3"
  },
  "language_info": {
   "codemirror_mode": {
    "name": "ipython",
    "version": 3
   },
   "file_extension": ".py",
   "mimetype": "text/x-python",
   "name": "python",
   "nbconvert_exporter": "python",
   "pygments_lexer": "ipython3",
   "version": "3.10.9"
  }
 },
 "nbformat": 4,
 "nbformat_minor": 2
}
